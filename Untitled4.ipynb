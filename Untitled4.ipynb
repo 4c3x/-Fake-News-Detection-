{
  "nbformat": 4,
  "nbformat_minor": 0,
  "metadata": {
    "colab": {
      "provenance": [],
      "gpuType": "T4",
      "authorship_tag": "ABX9TyNh9/xGf64GADTbs5IsHWF5",
      "include_colab_link": true
    },
    "kernelspec": {
      "name": "python3",
      "display_name": "Python 3"
    },
    "language_info": {
      "name": "python"
    },
    "accelerator": "GPU"
  },
  "cells": [
    {
      "cell_type": "markdown",
      "metadata": {
        "id": "view-in-github",
        "colab_type": "text"
      },
      "source": [
        "<a href=\"https://colab.research.google.com/github/4c3x/-Fake-News-Detection-/blob/master/Untitled4.ipynb\" target=\"_parent\"><img src=\"https://colab.research.google.com/assets/colab-badge.svg\" alt=\"Open In Colab\"/></a>"
      ]
    },
    {
      "cell_type": "code",
      "execution_count": 23,
      "metadata": {
        "id": "3Vi8Pr2eMUT2",
        "outputId": "65a30efd-7391-4b78-ca66-4ea02ab176c2",
        "colab": {
          "base_uri": "https://localhost:8080/"
        }
      },
      "outputs": [
        {
          "output_type": "stream",
          "name": "stdout",
          "text": [
            "Found GPU at: /device:GPU:0\n"
          ]
        }
      ],
      "source": [
        "import tensorflow as tf\n",
        "device_name = tf.test.gpu_device_name()\n",
        "if device_name != '/device:GPU:0':\n",
        "  raise SystemError('GPU device not found')\n",
        "print('Found GPU at: {}'.format(device_name))"
      ]
    },
    {
      "cell_type": "code",
      "source": [
        "from google.colab import drive\n",
        "drive.mount(\"/content/drive\")\n"
      ],
      "metadata": {
        "id": "75jeVy4j9Ww1",
        "colab": {
          "base_uri": "https://localhost:8080/"
        },
        "outputId": "58df74f4-6889-4e3f-9bcf-6ac5800c0001"
      },
      "execution_count": 24,
      "outputs": [
        {
          "output_type": "stream",
          "name": "stdout",
          "text": [
            "Drive already mounted at /content/drive; to attempt to forcibly remount, call drive.mount(\"/content/drive\", force_remount=True).\n"
          ]
        }
      ]
    },
    {
      "cell_type": "code",
      "source": [
        "import pandas as pd\n",
        "import numpy as np\n",
        "import matplotlib.pyplot as plt\n",
        "import seaborn as sns\n",
        "\n",
        "import nltk\n",
        "import re\n",
        "from nltk.stem import PorterStemmer, WordNetLemmatizer\n",
        "from nltk.corpus import stopwords\n",
        "from nltk.tokenize import word_tokenize, sent_tokenize\n",
        "\n",
        "from sklearn.pipeline import Pipeline\n",
        "from sklearn.linear_model import LogisticRegression, SGDClassifier\n",
        "from sklearn.naive_bayes import GaussianNB, MultinomialNB, BernoulliNB\n",
        "from sklearn.neighbors import KNeighborsClassifier\n",
        "from sklearn.svm import LinearSVC\n",
        "from sklearn.tree import DecisionTreeClassifier\n",
        "from sklearn.ensemble import GradientBoostingClassifier, RandomForestClassifier\n",
        "from xgboost import XGBClassifier\n",
        "from sklearn.model_selection import train_test_split\n",
        "from sklearn.metrics import accuracy_score, confusion_matrix, classification_report\n",
        "from sklearn.feature_extraction.text import CountVectorizer, TfidfVectorizer\n",
        "\n",
        "import tensorflow as tf\n",
        "from tensorflow.keras.preprocessing import text, sequence\n",
        "from tensorflow.keras.preprocessing.text import one_hot\n",
        "from tensorflow.keras.preprocessing.sequence import pad_sequences\n",
        "from tensorflow.keras.models import Sequential\n",
        "from tensorflow.keras.layers import Embedding, Dense, LSTM, Dropout\n",
        "from tensorflow.keras.callbacks import Callback, ReduceLROnPlateau, EarlyStopping\n",
        "from tensorflow.keras.callbacks import History\n",
        "\n",
        "from keras.preprocessing.text import Tokenizer\n",
        "from keras import layers\n",
        "from keras.layers import Embedding\n",
        "from keras.layers import Reshape, Flatten\n",
        "from keras.models import Sequential, Model\n",
        "from keras.layers import Dense, Activation\n",
        "from keras.layers import Flatten, Conv1D, SpatialDropout1D, MaxPooling1D,AveragePooling1D, concatenate, Input, Dropout\n",
        "\n",
        "from wordcloud import WordCloud, STOPWORDS\n",
        "\n",
        "from sklearn.metrics import classification_report, confusion_matrix, accuracy_score, precision_score, recall_score, f1_score"
      ],
      "metadata": {
        "id": "X6Gom_c8AZNQ"
      },
      "execution_count": 50,
      "outputs": []
    },
    {
      "cell_type": "code",
      "source": [
        "df = pd.read_csv('/content/drive/MyDrive/fake_train.csv', delimiter = ',')"
      ],
      "metadata": {
        "id": "QR_HlFKsAkwT"
      },
      "execution_count": 26,
      "outputs": []
    },
    {
      "cell_type": "code",
      "source": [
        "# Maximum number of words to be embedded\n",
        "NUM_WORDS = 30000\n",
        "EMBEDDING_DIM = 100\n",
        "# max length to be encoded for a sentence\n",
        "MAX_SEQUENCE_LENGTH = 1000\n",
        "\n",
        "# Convert 'text' column to string\n",
        "df['text'] = df['text'].astype(str)\n",
        "\n",
        "# Define Tokenize text function\n",
        "tokenizer = Tokenizer(num_words=NUM_WORDS, filters='!\"#$%&()*+,-./:;<=>?@[\\]^_`{|}~\\t\\n\\'', lower=True)\n",
        "\n",
        "# Fit the function on the text\n",
        "tokenizer.fit_on_texts(df['text'])\n",
        "\n",
        "sequences = tokenizer.texts_to_sequences(df['text'])\n",
        "\n",
        "# pad the data to the same length\n",
        "data = pad_sequences(sequences, maxlen=MAX_SEQUENCE_LENGTH, padding='post')\n",
        "\n",
        "# Count number of unique tokens\n",
        "word_index = tokenizer.word_index\n",
        "print('Found %s unique tokens.' % len(word_index))\n"
      ],
      "metadata": {
        "colab": {
          "base_uri": "https://localhost:8080/"
        },
        "id": "6JzmvVtnA3XL",
        "outputId": "bf777d99-95b1-493f-f08d-927412d7c882"
      },
      "execution_count": 27,
      "outputs": [
        {
          "output_type": "stream",
          "name": "stdout",
          "text": [
            "Found 235332 unique tokens.\n"
          ]
        }
      ]
    },
    {
      "cell_type": "code",
      "source": [
        "X_train, X_test, y_train, y_test = train_test_split(data, df[['label']], test_size=0.2, random_state=42)"
      ],
      "metadata": {
        "id": "_z3GKd8sB1sP"
      },
      "execution_count": 28,
      "outputs": []
    },
    {
      "cell_type": "code",
      "source": [
        "word_vectors = dict()\n",
        "\n",
        "# load the whole embedding into memory\n",
        "f = open('/content/drive/MyDrive/glove.6B.100d.txt', encoding=\"utf8\")\n",
        "for line in f:\n",
        "    values = line.split()\n",
        "    word = values[0]\n",
        "    coefs = np.asarray(values[1:], dtype='float32')\n",
        "    word_vectors[word] = coefs\n",
        "f.close()\n",
        "print('Loaded %s word vectors.' % len(word_vectors))\n",
        ""
      ],
      "metadata": {
        "colab": {
          "base_uri": "https://localhost:8080/"
        },
        "id": "x2QJFjkiB58F",
        "outputId": "e8782b49-fe36-4dec-adab-0c0dbb2b0927"
      },
      "execution_count": 29,
      "outputs": [
        {
          "output_type": "stream",
          "name": "stdout",
          "text": [
            "Loaded 400000 word vectors.\n"
          ]
        }
      ]
    },
    {
      "cell_type": "code",
      "source": [
        "vocabulary_size=min(len(word_index)+1,(NUM_WORDS))\n",
        "#vocabulary_size= len(word_index)+1\n",
        "embedding_matrix = np.zeros((vocabulary_size, EMBEDDING_DIM))\n",
        "\n",
        "for word, i in word_index.items():\n",
        "    if i>=NUM_WORDS:\n",
        "        continue\n",
        "    try:\n",
        "        embedding_vector = word_vectors[word]\n",
        "        embedding_matrix[i] = embedding_vector\n",
        "    except KeyError:\n",
        "      # if the word is not found, set to all 0s\n",
        "        vec = np.zeros(EMBEDDING_DIM)\n",
        "        embedding_matrix[i]=vec\n",
        "\n",
        "#del(word_vectors)"
      ],
      "metadata": {
        "id": "Ed_vePG3CH2b"
      },
      "execution_count": 30,
      "outputs": []
    },
    {
      "cell_type": "code",
      "source": [
        "# Dfine Embedding function using the embedding_matrix\n",
        "embedding_layer = Embedding(vocabulary_size,\n",
        "                            EMBEDDING_DIM,\n",
        "                            weights=[embedding_matrix],\n",
        "                            input_length=MAX_SEQUENCE_LENGTH,\n",
        "                            trainable=False)"
      ],
      "metadata": {
        "id": "rw3kqXqACLU8"
      },
      "execution_count": 31,
      "outputs": []
    },
    {
      "cell_type": "code",
      "source": [
        "embedding_matrix.shape"
      ],
      "metadata": {
        "colab": {
          "base_uri": "https://localhost:8080/"
        },
        "id": "2w6Zp-ZqCPBo",
        "outputId": "e6af0c57-1252-4e0f-f121-bb66f5ba56b0"
      },
      "execution_count": 32,
      "outputs": [
        {
          "output_type": "execute_result",
          "data": {
            "text/plain": [
              "(30000, 100)"
            ]
          },
          "metadata": {},
          "execution_count": 32
        }
      ]
    },
    {
      "cell_type": "code",
      "source": [
        "X_train.shape\n"
      ],
      "metadata": {
        "colab": {
          "base_uri": "https://localhost:8080/"
        },
        "id": "FXMzywHtCUWI",
        "outputId": "961f4a0c-ee40-413b-f0c0-3c19c579ba61"
      },
      "execution_count": 33,
      "outputs": [
        {
          "output_type": "execute_result",
          "data": {
            "text/plain": [
              "(16640, 1000)"
            ]
          },
          "metadata": {},
          "execution_count": 33
        }
      ]
    },
    {
      "cell_type": "code",
      "source": [
        "model = Sequential()\n",
        "model.add(Embedding(vocabulary_size,\n",
        "                            EMBEDDING_DIM,\n",
        "                            weights=[embedding_matrix],\n",
        "                            input_length=MAX_SEQUENCE_LENGTH,\n",
        "                            trainable=False))\n",
        "\n",
        "model.add(Conv1D(filters=128, kernel_size=4, activation='relu'))\n",
        "model.add(MaxPooling1D(4))\n",
        "model.add(Dropout(0.3))\n",
        "\n",
        "model.add(Flatten())\n",
        "model.add(Dense(units = 128 , activation = 'relu'))\n",
        "model.add(Dropout(0.3))\n",
        "model.add(Dense(1, activation='sigmoid'))\n",
        "model.summary()\n",
        "model.compile(loss='binary_crossentropy',\n",
        "              optimizer='Adadelta',\n",
        "              metrics=['acc'])\n",
        "history = model.fit(X_train, y_train, validation_data = (X_test,y_test), epochs=10, verbose=1)"
      ],
      "metadata": {
        "colab": {
          "base_uri": "https://localhost:8080/"
        },
        "id": "N-yDegJ7EoaC",
        "outputId": "dce6c314-e47b-45cf-f92f-7de302b4ca0b"
      },
      "execution_count": 34,
      "outputs": [
        {
          "output_type": "stream",
          "name": "stdout",
          "text": [
            "Model: \"sequential_2\"\n",
            "_________________________________________________________________\n",
            " Layer (type)                Output Shape              Param #   \n",
            "=================================================================\n",
            " embedding_2 (Embedding)     (None, 1000, 100)         3000000   \n",
            "                                                                 \n",
            " conv1d (Conv1D)             (None, 997, 128)          51328     \n",
            "                                                                 \n",
            " max_pooling1d (MaxPooling1  (None, 249, 128)          0         \n",
            " D)                                                              \n",
            "                                                                 \n",
            " dropout (Dropout)           (None, 249, 128)          0         \n",
            "                                                                 \n",
            " flatten (Flatten)           (None, 31872)             0         \n",
            "                                                                 \n",
            " dense (Dense)               (None, 128)               4079744   \n",
            "                                                                 \n",
            " dropout_1 (Dropout)         (None, 128)               0         \n",
            "                                                                 \n",
            " dense_1 (Dense)             (None, 1)                 129       \n",
            "                                                                 \n",
            "=================================================================\n",
            "Total params: 7131201 (27.20 MB)\n",
            "Trainable params: 4131201 (15.76 MB)\n",
            "Non-trainable params: 3000000 (11.44 MB)\n",
            "_________________________________________________________________\n",
            "Epoch 1/10\n",
            "520/520 [==============================] - 10s 9ms/step - loss: 0.6887 - acc: 0.5858 - val_loss: 0.6567 - val_acc: 0.6334\n",
            "Epoch 2/10\n",
            "520/520 [==============================] - 4s 8ms/step - loss: 0.6588 - acc: 0.6267 - val_loss: 0.6429 - val_acc: 0.6389\n",
            "Epoch 3/10\n",
            "520/520 [==============================] - 4s 8ms/step - loss: 0.6437 - acc: 0.6380 - val_loss: 0.6343 - val_acc: 0.6462\n",
            "Epoch 4/10\n",
            "520/520 [==============================] - 4s 8ms/step - loss: 0.6325 - acc: 0.6498 - val_loss: 0.6268 - val_acc: 0.6534\n",
            "Epoch 5/10\n",
            "520/520 [==============================] - 4s 8ms/step - loss: 0.6259 - acc: 0.6538 - val_loss: 0.6197 - val_acc: 0.6603\n",
            "Epoch 6/10\n",
            "520/520 [==============================] - 4s 8ms/step - loss: 0.6220 - acc: 0.6570 - val_loss: 0.6138 - val_acc: 0.6678\n",
            "Epoch 7/10\n",
            "520/520 [==============================] - 4s 8ms/step - loss: 0.6124 - acc: 0.6638 - val_loss: 0.6056 - val_acc: 0.6733\n",
            "Epoch 8/10\n",
            "520/520 [==============================] - 4s 8ms/step - loss: 0.6071 - acc: 0.6662 - val_loss: 0.5979 - val_acc: 0.6752\n",
            "Epoch 9/10\n",
            "520/520 [==============================] - 4s 7ms/step - loss: 0.6027 - acc: 0.6684 - val_loss: 0.5914 - val_acc: 0.6743\n",
            "Epoch 10/10\n",
            "520/520 [==============================] - 4s 8ms/step - loss: 0.5961 - acc: 0.6776 - val_loss: 0.5845 - val_acc: 0.7007\n"
          ]
        }
      ]
    },
    {
      "cell_type": "code",
      "source": [
        "# Plot the loss and accuracy curves for training and validation\n",
        "fig, ax = plt.subplots(2,1)\n",
        "ax[0].plot(history.history['loss'], color='b', label=\"Training loss\")\n",
        "ax[0].plot(history.history['val_loss'], color='r', label=\"validation loss\",axes =ax[0])\n",
        "legend = ax[0].legend(loc='best', shadow=True)\n",
        "\n",
        "ax[1].plot(history.history['acc'], color='b', label=\"Training accuracy\")\n",
        "ax[1].plot(history.history['val_accuracy'], color='r',label=\"Validation accuracy\")\n",
        "legend = ax[1].legend(loc='best', shadow=True)"
      ],
      "metadata": {
        "colab": {
          "base_uri": "https://localhost:8080/",
          "height": 658
        },
        "id": "HLgQotrwFCPw",
        "outputId": "9af1c8c2-ce1d-4a38-ec69-44bcfe74de96"
      },
      "execution_count": 35,
      "outputs": [
        {
          "output_type": "error",
          "ename": "KeyError",
          "evalue": "'val_accuracy'",
          "traceback": [
            "\u001b[0;31m---------------------------------------------------------------------------\u001b[0m",
            "\u001b[0;31mKeyError\u001b[0m                                  Traceback (most recent call last)",
            "\u001b[0;32m<ipython-input-35-4530bf7b0c21>\u001b[0m in \u001b[0;36m<cell line: 8>\u001b[0;34m()\u001b[0m\n\u001b[1;32m      6\u001b[0m \u001b[0;34m\u001b[0m\u001b[0m\n\u001b[1;32m      7\u001b[0m \u001b[0max\u001b[0m\u001b[0;34m[\u001b[0m\u001b[0;36m1\u001b[0m\u001b[0;34m]\u001b[0m\u001b[0;34m.\u001b[0m\u001b[0mplot\u001b[0m\u001b[0;34m(\u001b[0m\u001b[0mhistory\u001b[0m\u001b[0;34m.\u001b[0m\u001b[0mhistory\u001b[0m\u001b[0;34m[\u001b[0m\u001b[0;34m'acc'\u001b[0m\u001b[0;34m]\u001b[0m\u001b[0;34m,\u001b[0m \u001b[0mcolor\u001b[0m\u001b[0;34m=\u001b[0m\u001b[0;34m'b'\u001b[0m\u001b[0;34m,\u001b[0m \u001b[0mlabel\u001b[0m\u001b[0;34m=\u001b[0m\u001b[0;34m\"Training accuracy\"\u001b[0m\u001b[0;34m)\u001b[0m\u001b[0;34m\u001b[0m\u001b[0;34m\u001b[0m\u001b[0m\n\u001b[0;32m----> 8\u001b[0;31m \u001b[0max\u001b[0m\u001b[0;34m[\u001b[0m\u001b[0;36m1\u001b[0m\u001b[0;34m]\u001b[0m\u001b[0;34m.\u001b[0m\u001b[0mplot\u001b[0m\u001b[0;34m(\u001b[0m\u001b[0mhistory\u001b[0m\u001b[0;34m.\u001b[0m\u001b[0mhistory\u001b[0m\u001b[0;34m[\u001b[0m\u001b[0;34m'val_accuracy'\u001b[0m\u001b[0;34m]\u001b[0m\u001b[0;34m,\u001b[0m \u001b[0mcolor\u001b[0m\u001b[0;34m=\u001b[0m\u001b[0;34m'r'\u001b[0m\u001b[0;34m,\u001b[0m\u001b[0mlabel\u001b[0m\u001b[0;34m=\u001b[0m\u001b[0;34m\"Validation accuracy\"\u001b[0m\u001b[0;34m)\u001b[0m\u001b[0;34m\u001b[0m\u001b[0;34m\u001b[0m\u001b[0m\n\u001b[0m\u001b[1;32m      9\u001b[0m \u001b[0mlegend\u001b[0m \u001b[0;34m=\u001b[0m \u001b[0max\u001b[0m\u001b[0;34m[\u001b[0m\u001b[0;36m1\u001b[0m\u001b[0;34m]\u001b[0m\u001b[0;34m.\u001b[0m\u001b[0mlegend\u001b[0m\u001b[0;34m(\u001b[0m\u001b[0mloc\u001b[0m\u001b[0;34m=\u001b[0m\u001b[0;34m'best'\u001b[0m\u001b[0;34m,\u001b[0m \u001b[0mshadow\u001b[0m\u001b[0;34m=\u001b[0m\u001b[0;32mTrue\u001b[0m\u001b[0;34m)\u001b[0m\u001b[0;34m\u001b[0m\u001b[0;34m\u001b[0m\u001b[0m\n",
            "\u001b[0;31mKeyError\u001b[0m: 'val_accuracy'"
          ]
        },
        {
          "output_type": "display_data",
          "data": {
            "text/plain": [
              "<Figure size 640x480 with 2 Axes>"
            ],
            "image/png": "[encoded data removed]"
          },
          "metadata": {}
        }
      ]
    },
    {
      "cell_type": "code",
      "source": [
        "# define model\n",
        "model = Sequential()\n",
        "model.add(embedding_layer)\n",
        "model.add(Flatten())\n",
        "model.add(Dense(1, activation='sigmoid'))\n",
        "# compile the model\n",
        "model.compile(optimizer='adam', loss='binary_crossentropy',\n",
        "              metrics=['acc'])\n",
        "# summarize the model\n",
        "model.summary()\n",
        "# fit the model\n",
        "model.fit(X_train,y_train,epochs = 2,validation_data=(X_test, y_test), batch_size=128, verbose = 1)\n",
        "loss,accuracy = model.evaluate(X_test,y_test)\n",
        "print('Accuracy: %f' % (accuracy*100))"
      ],
      "metadata": {
        "colab": {
          "base_uri": "https://localhost:8080/"
        },
        "id": "qVE3TX6FFL6X",
        "outputId": "99ade16c-d124-4406-871b-462fa8c6e67b"
      },
      "execution_count": 36,
      "outputs": [
        {
          "output_type": "stream",
          "name": "stdout",
          "text": [
            "Model: \"sequential_3\"\n",
            "_________________________________________________________________\n",
            " Layer (type)                Output Shape              Param #   \n",
            "=================================================================\n",
            " embedding_1 (Embedding)     (None, 1000, 100)         3000000   \n",
            "                                                                 \n",
            " flatten_1 (Flatten)         (None, 100000)            0         \n",
            "                                                                 \n",
            " dense_2 (Dense)             (None, 1)                 100001    \n",
            "                                                                 \n",
            "=================================================================\n",
            "Total params: 3100001 (11.83 MB)\n",
            "Trainable params: 100001 (390.63 KB)\n",
            "Non-trainable params: 3000000 (11.44 MB)\n",
            "_________________________________________________________________\n",
            "Epoch 1/2\n",
            "130/130 [==============================] - 1s 5ms/step - loss: 0.5856 - acc: 0.7654 - val_loss: 0.4387 - val_acc: 0.8034\n",
            "Epoch 2/2\n",
            "130/130 [==============================] - 1s 5ms/step - loss: 0.1764 - acc: 0.9433 - val_loss: 0.3504 - val_acc: 0.8596\n",
            "130/130 [==============================] - 0s 3ms/step - loss: 0.3504 - acc: 0.8596\n",
            "Accuracy: 85.961539\n"
          ]
        }
      ]
    },
    {
      "cell_type": "code",
      "source": [
        "# define model\n",
        "model = Sequential()\n",
        "model.add(embedding_layer)\n",
        "model.add(Flatten())\n",
        "model.add(Dense(1, activation='sigmoid'))\n",
        "\n",
        "# compile the model\n",
        "model.compile(optimizer='adam', loss='binary_crossentropy',\n",
        "              metrics=['accuracy'])\n",
        "# summarize the model\n",
        "model.summary()\n",
        "# fit the model\n",
        "model.fit(X_train,y_train,epochs = 2,validation_data=(X_test, y_test), batch_size=128, verbose = 1)\n",
        "loss,accuracy = model.evaluate(X_test,y_test)\n",
        "print('Accuracy: %f' % (accuracy*100))"
      ],
      "metadata": {
        "colab": {
          "base_uri": "https://localhost:8080/",
          "height": 1000
        },
        "id": "QGbEnGQSFZM9",
        "outputId": "937cacb1-c15b-4d7e-ac32-6d3b1feb19b1"
      },
      "execution_count": 44,
      "outputs": [
        {
          "output_type": "stream",
          "name": "stdout",
          "text": [
            "Model: \"sequential_6\"\n",
            "_________________________________________________________________\n",
            " Layer (type)                Output Shape              Param #   \n",
            "=================================================================\n",
            " embedding_1 (Embedding)     (None, 1000, 100)         3000000   \n",
            "                                                                 \n",
            " flatten_4 (Flatten)         (None, 100000)            0         \n",
            "                                                                 \n",
            " dense_6 (Dense)             (None, 1)                 100001    \n",
            "                                                                 \n",
            "=================================================================\n",
            "Total params: 3100001 (11.83 MB)\n",
            "Trainable params: 100001 (390.63 KB)\n",
            "Non-trainable params: 3000000 (11.44 MB)\n",
            "_________________________________________________________________\n",
            "Epoch 1/2\n"
          ]
        },
        {
          "output_type": "error",
          "ename": "ValueError",
          "evalue": "in user code:\n\n    File \"/usr/local/lib/python3.10/dist-packages/keras/src/engine/training.py\", line 1401, in train_function  *\n        return step_function(self, iterator)\n    File \"/usr/local/lib/python3.10/dist-packages/keras/src/engine/training.py\", line 1384, in step_function  **\n        outputs = model.distribute_strategy.run(run_step, args=(data,))\n    File \"/usr/local/lib/python3.10/dist-packages/keras/src/engine/training.py\", line 1373, in run_step  **\n        outputs = model.train_step(data)\n    File \"/usr/local/lib/python3.10/dist-packages/keras/src/engine/training.py\", line 1151, in train_step\n        loss = self.compute_loss(x, y, y_pred, sample_weight)\n    File \"/usr/local/lib/python3.10/dist-packages/keras/src/engine/training.py\", line 1209, in compute_loss\n        return self.compiled_loss(\n    File \"/usr/local/lib/python3.10/dist-packages/keras/src/engine/compile_utils.py\", line 277, in __call__\n        loss_value = loss_obj(y_t, y_p, sample_weight=sw)\n    File \"/usr/local/lib/python3.10/dist-packages/keras/src/losses.py\", line 143, in __call__\n        losses = call_fn(y_true, y_pred)\n    File \"/usr/local/lib/python3.10/dist-packages/keras/src/losses.py\", line 270, in call  **\n        return ag_fn(y_true, y_pred, **self._fn_kwargs)\n    File \"/usr/local/lib/python3.10/dist-packages/keras/src/losses.py\", line 2532, in binary_crossentropy\n        backend.binary_crossentropy(y_true, y_pred, from_logits=from_logits),\n    File \"/usr/local/lib/python3.10/dist-packages/keras/src/backend.py\", line 5822, in binary_crossentropy\n        return tf.nn.sigmoid_cross_entropy_with_logits(\n\n    ValueError: `logits` and `labels` must have the same shape, received ((128, 1) vs (128, 2)).\n",
          "traceback": [
            "\u001b[0;31m---------------------------------------------------------------------------\u001b[0m",
            "\u001b[0;31mValueError\u001b[0m                                Traceback (most recent call last)",
            "\u001b[0;32m<ipython-input-44-67f2b554416b>\u001b[0m in \u001b[0;36m<cell line: 13>\u001b[0;34m()\u001b[0m\n\u001b[1;32m     11\u001b[0m \u001b[0mmodel\u001b[0m\u001b[0;34m.\u001b[0m\u001b[0msummary\u001b[0m\u001b[0;34m(\u001b[0m\u001b[0;34m)\u001b[0m\u001b[0;34m\u001b[0m\u001b[0;34m\u001b[0m\u001b[0m\n\u001b[1;32m     12\u001b[0m \u001b[0;31m# fit the model\u001b[0m\u001b[0;34m\u001b[0m\u001b[0;34m\u001b[0m\u001b[0m\n\u001b[0;32m---> 13\u001b[0;31m \u001b[0mmodel\u001b[0m\u001b[0;34m.\u001b[0m\u001b[0mfit\u001b[0m\u001b[0;34m(\u001b[0m\u001b[0mX_train\u001b[0m\u001b[0;34m,\u001b[0m\u001b[0my_train\u001b[0m\u001b[0;34m,\u001b[0m\u001b[0mepochs\u001b[0m \u001b[0;34m=\u001b[0m \u001b[0;36m2\u001b[0m\u001b[0;34m,\u001b[0m\u001b[0mvalidation_data\u001b[0m\u001b[0;34m=\u001b[0m\u001b[0;34m(\u001b[0m\u001b[0mX_test\u001b[0m\u001b[0;34m,\u001b[0m \u001b[0my_test\u001b[0m\u001b[0;34m)\u001b[0m\u001b[0;34m,\u001b[0m \u001b[0mbatch_size\u001b[0m\u001b[0;34m=\u001b[0m\u001b[0;36m128\u001b[0m\u001b[0;34m,\u001b[0m \u001b[0mverbose\u001b[0m \u001b[0;34m=\u001b[0m \u001b[0;36m1\u001b[0m\u001b[0;34m)\u001b[0m\u001b[0;34m\u001b[0m\u001b[0;34m\u001b[0m\u001b[0m\n\u001b[0m\u001b[1;32m     14\u001b[0m \u001b[0mloss\u001b[0m\u001b[0;34m,\u001b[0m\u001b[0maccuracy\u001b[0m \u001b[0;34m=\u001b[0m \u001b[0mmodel\u001b[0m\u001b[0;34m.\u001b[0m\u001b[0mevaluate\u001b[0m\u001b[0;34m(\u001b[0m\u001b[0mX_test\u001b[0m\u001b[0;34m,\u001b[0m\u001b[0my_test\u001b[0m\u001b[0;34m)\u001b[0m\u001b[0;34m\u001b[0m\u001b[0;34m\u001b[0m\u001b[0m\n\u001b[1;32m     15\u001b[0m \u001b[0mprint\u001b[0m\u001b[0;34m(\u001b[0m\u001b[0;34m'Accuracy: %f'\u001b[0m \u001b[0;34m%\u001b[0m \u001b[0;34m(\u001b[0m\u001b[0maccuracy\u001b[0m\u001b[0;34m*\u001b[0m\u001b[0;36m100\u001b[0m\u001b[0;34m)\u001b[0m\u001b[0;34m)\u001b[0m\u001b[0;34m\u001b[0m\u001b[0;34m\u001b[0m\u001b[0m\n",
            "\u001b[0;32m/usr/local/lib/python3.10/dist-packages/keras/src/utils/traceback_utils.py\u001b[0m in \u001b[0;36merror_handler\u001b[0;34m(*args, **kwargs)\u001b[0m\n\u001b[1;32m     68\u001b[0m             \u001b[0;31m# To get the full stack trace, call:\u001b[0m\u001b[0;34m\u001b[0m\u001b[0;34m\u001b[0m\u001b[0m\n\u001b[1;32m     69\u001b[0m             \u001b[0;31m# `tf.debugging.disable_traceback_filtering()`\u001b[0m\u001b[0;34m\u001b[0m\u001b[0;34m\u001b[0m\u001b[0m\n\u001b[0;32m---> 70\u001b[0;31m             \u001b[0;32mraise\u001b[0m \u001b[0me\u001b[0m\u001b[0;34m.\u001b[0m\u001b[0mwith_traceback\u001b[0m\u001b[0;34m(\u001b[0m\u001b[0mfiltered_tb\u001b[0m\u001b[0;34m)\u001b[0m \u001b[0;32mfrom\u001b[0m \u001b[0;32mNone\u001b[0m\u001b[0;34m\u001b[0m\u001b[0;34m\u001b[0m\u001b[0m\n\u001b[0m\u001b[1;32m     71\u001b[0m         \u001b[0;32mfinally\u001b[0m\u001b[0;34m:\u001b[0m\u001b[0;34m\u001b[0m\u001b[0;34m\u001b[0m\u001b[0m\n\u001b[1;32m     72\u001b[0m             \u001b[0;32mdel\u001b[0m \u001b[0mfiltered_tb\u001b[0m\u001b[0;34m\u001b[0m\u001b[0;34m\u001b[0m\u001b[0m\n",
            "\u001b[0;32m/usr/local/lib/python3.10/dist-packages/keras/src/engine/training.py\u001b[0m in \u001b[0;36mtf__train_function\u001b[0;34m(iterator)\u001b[0m\n\u001b[1;32m     13\u001b[0m                 \u001b[0;32mtry\u001b[0m\u001b[0;34m:\u001b[0m\u001b[0;34m\u001b[0m\u001b[0;34m\u001b[0m\u001b[0m\n\u001b[1;32m     14\u001b[0m                     \u001b[0mdo_return\u001b[0m \u001b[0;34m=\u001b[0m \u001b[0;32mTrue\u001b[0m\u001b[0;34m\u001b[0m\u001b[0;34m\u001b[0m\u001b[0m\n\u001b[0;32m---> 15\u001b[0;31m                     \u001b[0mretval_\u001b[0m \u001b[0;34m=\u001b[0m \u001b[0mag__\u001b[0m\u001b[0;34m.\u001b[0m\u001b[0mconverted_call\u001b[0m\u001b[0;34m(\u001b[0m\u001b[0mag__\u001b[0m\u001b[0;34m.\u001b[0m\u001b[0mld\u001b[0m\u001b[0;34m(\u001b[0m\u001b[0mstep_function\u001b[0m\u001b[0;34m)\u001b[0m\u001b[0;34m,\u001b[0m \u001b[0;34m(\u001b[0m\u001b[0mag__\u001b[0m\u001b[0;34m.\u001b[0m\u001b[0mld\u001b[0m\u001b[0;34m(\u001b[0m\u001b[0mself\u001b[0m\u001b[0;34m)\u001b[0m\u001b[0;34m,\u001b[0m \u001b[0mag__\u001b[0m\u001b[0;34m.\u001b[0m\u001b[0mld\u001b[0m\u001b[0;34m(\u001b[0m\u001b[0miterator\u001b[0m\u001b[0;34m)\u001b[0m\u001b[0;34m)\u001b[0m\u001b[0;34m,\u001b[0m \u001b[0;32mNone\u001b[0m\u001b[0;34m,\u001b[0m \u001b[0mfscope\u001b[0m\u001b[0;34m)\u001b[0m\u001b[0;34m\u001b[0m\u001b[0;34m\u001b[0m\u001b[0m\n\u001b[0m\u001b[1;32m     16\u001b[0m                 \u001b[0;32mexcept\u001b[0m\u001b[0;34m:\u001b[0m\u001b[0;34m\u001b[0m\u001b[0;34m\u001b[0m\u001b[0m\n\u001b[1;32m     17\u001b[0m                     \u001b[0mdo_return\u001b[0m \u001b[0;34m=\u001b[0m \u001b[0;32mFalse\u001b[0m\u001b[0;34m\u001b[0m\u001b[0;34m\u001b[0m\u001b[0m\n",
            "\u001b[0;31mValueError\u001b[0m: in user code:\n\n    File \"/usr/local/lib/python3.10/dist-packages/keras/src/engine/training.py\", line 1401, in train_function  *\n        return step_function(self, iterator)\n    File \"/usr/local/lib/python3.10/dist-packages/keras/src/engine/training.py\", line 1384, in step_function  **\n        outputs = model.distribute_strategy.run(run_step, args=(data,))\n    File \"/usr/local/lib/python3.10/dist-packages/keras/src/engine/training.py\", line 1373, in run_step  **\n        outputs = model.train_step(data)\n    File \"/usr/local/lib/python3.10/dist-packages/keras/src/engine/training.py\", line 1151, in train_step\n        loss = self.compute_loss(x, y, y_pred, sample_weight)\n    File \"/usr/local/lib/python3.10/dist-packages/keras/src/engine/training.py\", line 1209, in compute_loss\n        return self.compiled_loss(\n    File \"/usr/local/lib/python3.10/dist-packages/keras/src/engine/compile_utils.py\", line 277, in __call__\n        loss_value = loss_obj(y_t, y_p, sample_weight=sw)\n    File \"/usr/local/lib/python3.10/dist-packages/keras/src/losses.py\", line 143, in __call__\n        losses = call_fn(y_true, y_pred)\n    File \"/usr/local/lib/python3.10/dist-packages/keras/src/losses.py\", line 270, in call  **\n        return ag_fn(y_true, y_pred, **self._fn_kwargs)\n    File \"/usr/local/lib/python3.10/dist-packages/keras/src/losses.py\", line 2532, in binary_crossentropy\n        backend.binary_crossentropy(y_true, y_pred, from_logits=from_logits),\n    File \"/usr/local/lib/python3.10/dist-packages/keras/src/backend.py\", line 5822, in binary_crossentropy\n        return tf.nn.sigmoid_cross_entropy_with_logits(\n\n    ValueError: `logits` and `labels` must have the same shape, received ((128, 1) vs (128, 2)).\n"
          ]
        }
      ]
    },
    {
      "cell_type": "code",
      "source": [
        "model.compile(loss='binary_crossentropy',\n",
        "              #optimizer='Adadelta',\n",
        "              optimizer='Adam',\n",
        "              metrics=['accuracy'])"
      ],
      "metadata": {
        "id": "fdkJyvd4FepR"
      },
      "execution_count": 45,
      "outputs": []
    },
    {
      "cell_type": "code",
      "source": [
        "\n",
        "y_train_binary = y_train.argmax(axis=1)\n",
        "y_test_binary = y_test.argmax(axis=1)"
      ],
      "metadata": {
        "id": "8VP0ZYCFFmw0"
      },
      "execution_count": 43,
      "outputs": []
    },
    {
      "cell_type": "code",
      "source": [
        "epochs = 20\n",
        "batch_size = 128\n",
        "\n",
        "\n",
        "\n",
        "model.fit(X_train, y_train_binary, epochs=epochs, validation_data=(X_test, y_test_binary), batch_size=batch_size, verbose=1)\n",
        "\n",
        "# Evaluate the model\n",
        "loss, accuracy = model.evaluate(X_test, y_test_binary)\n",
        "print('Accuracy: %f' % (accuracy * 100))\n"
      ],
      "metadata": {
        "colab": {
          "base_uri": "https://localhost:8080/"
        },
        "id": "iGVDQVntFqmT",
        "outputId": "0392413e-b18f-4ba4-c56d-0e0154b236a6"
      },
      "execution_count": 48,
      "outputs": [
        {
          "output_type": "stream",
          "name": "stdout",
          "text": [
            "Epoch 1/20\n",
            "130/130 [==============================] - 1s 4ms/step - loss: 0.2159 - accuracy: 0.9567 - val_loss: 0.4116 - val_accuracy: 0.8522\n",
            "Epoch 2/20\n",
            "130/130 [==============================] - 1s 4ms/step - loss: 0.2102 - accuracy: 0.9573 - val_loss: 0.4108 - val_accuracy: 0.8481\n",
            "Epoch 3/20\n",
            "130/130 [==============================] - 0s 3ms/step - loss: 0.2021 - accuracy: 0.9595 - val_loss: 0.4073 - val_accuracy: 0.8536\n",
            "Epoch 4/20\n",
            "130/130 [==============================] - 0s 4ms/step - loss: 0.1969 - accuracy: 0.9602 - val_loss: 0.4357 - val_accuracy: 0.8481\n",
            "Epoch 5/20\n",
            "130/130 [==============================] - 1s 5ms/step - loss: 0.1930 - accuracy: 0.9600 - val_loss: 0.4345 - val_accuracy: 0.8389\n",
            "Epoch 6/20\n",
            "130/130 [==============================] - 1s 5ms/step - loss: 0.1832 - accuracy: 0.9641 - val_loss: 0.4185 - val_accuracy: 0.8526\n",
            "Epoch 7/20\n",
            "130/130 [==============================] - 1s 5ms/step - loss: 0.1780 - accuracy: 0.9651 - val_loss: 0.4162 - val_accuracy: 0.8486\n",
            "Epoch 8/20\n",
            "130/130 [==============================] - 1s 5ms/step - loss: 0.1782 - accuracy: 0.9633 - val_loss: 0.4147 - val_accuracy: 0.8560\n",
            "Epoch 9/20\n",
            "130/130 [==============================] - 0s 4ms/step - loss: 0.1731 - accuracy: 0.9645 - val_loss: 0.4272 - val_accuracy: 0.8471\n",
            "Epoch 10/20\n",
            "130/130 [==============================] - 1s 4ms/step - loss: 0.1677 - accuracy: 0.9662 - val_loss: 0.4222 - val_accuracy: 0.8505\n",
            "Epoch 11/20\n",
            "130/130 [==============================] - 0s 4ms/step - loss: 0.1651 - accuracy: 0.9662 - val_loss: 0.4265 - val_accuracy: 0.8507\n",
            "Epoch 12/20\n",
            "130/130 [==============================] - 1s 4ms/step - loss: 0.1627 - accuracy: 0.9663 - val_loss: 0.4299 - val_accuracy: 0.8507\n",
            "Epoch 13/20\n",
            "130/130 [==============================] - 0s 4ms/step - loss: 0.1584 - accuracy: 0.9672 - val_loss: 0.4413 - val_accuracy: 0.8406\n",
            "Epoch 14/20\n",
            "130/130 [==============================] - 0s 4ms/step - loss: 0.1555 - accuracy: 0.9680 - val_loss: 0.4543 - val_accuracy: 0.8462\n",
            "Epoch 15/20\n",
            "130/130 [==============================] - 0s 4ms/step - loss: 0.1534 - accuracy: 0.9680 - val_loss: 0.4426 - val_accuracy: 0.8474\n",
            "Epoch 16/20\n",
            "130/130 [==============================] - 0s 4ms/step - loss: 0.1477 - accuracy: 0.9698 - val_loss: 0.4475 - val_accuracy: 0.8493\n",
            "Epoch 17/20\n",
            "130/130 [==============================] - 1s 4ms/step - loss: 0.1478 - accuracy: 0.9688 - val_loss: 0.4656 - val_accuracy: 0.8445\n",
            "Epoch 18/20\n",
            "130/130 [==============================] - 0s 4ms/step - loss: 0.1449 - accuracy: 0.9697 - val_loss: 0.4478 - val_accuracy: 0.8498\n",
            "Epoch 19/20\n",
            "130/130 [==============================] - 0s 4ms/step - loss: 0.1435 - accuracy: 0.9696 - val_loss: 0.4477 - val_accuracy: 0.8514\n",
            "Epoch 20/20\n",
            "130/130 [==============================] - 1s 4ms/step - loss: 0.1554 - accuracy: 0.9640 - val_loss: 0.4525 - val_accuracy: 0.8476\n",
            "130/130 [==============================] - 0s 2ms/step - loss: 0.4525 - accuracy: 0.8476\n",
            "Accuracy: 84.759617\n"
          ]
        }
      ]
    },
    {
      "cell_type": "code",
      "source": [
        "y_pred = model.predict(X_test)\n",
        "\n",
        "# Convert predicted probabilities to binary predictions\n",
        "y_pred_binary = (y_pred > 0.5).astype(int)\n",
        "\n",
        "# Convert true labels to binary format if needed\n",
        "y_test_binary = y_test.argmax(axis=1)\n",
        "\n",
        "# Calculate and print various metrics\n",
        "print(\"Confusion Matrix:\\n\", confusion_matrix(y_test_binary, y_pred_binary))\n",
        "print(\"\\nClassification Report:\\n\", classification_report(y_test_binary, y_pred_binary))\n",
        "print(\"\\nAccuracy:\", accuracy_score(y_test_binary, y_pred_binary))\n",
        "print(\"Precision:\", precision_score(y_test_binary, y_pred_binary))\n",
        "print(\"Recall:\", recall_score(y_test_binary, y_pred_binary))\n",
        "print(\"F1 Score:\", f1_score(y_test_binary, y_pred_binary))"
      ],
      "metadata": {
        "colab": {
          "base_uri": "https://localhost:8080/"
        },
        "id": "oO9fb9uRIzfg",
        "outputId": "948351c9-c8fd-4817-bdb6-57f4f079c36a"
      },
      "execution_count": 51,
      "outputs": [
        {
          "output_type": "stream",
          "name": "stdout",
          "text": [
            "130/130 [==============================] - 0s 2ms/step\n",
            "Confusion Matrix:\n",
            " [[1881  251]\n",
            " [ 383 1645]]\n",
            "\n",
            "Classification Report:\n",
            "               precision    recall  f1-score   support\n",
            "\n",
            "           0       0.83      0.88      0.86      2132\n",
            "           1       0.87      0.81      0.84      2028\n",
            "\n",
            "    accuracy                           0.85      4160\n",
            "   macro avg       0.85      0.85      0.85      4160\n",
            "weighted avg       0.85      0.85      0.85      4160\n",
            "\n",
            "\n",
            "Accuracy: 0.8475961538461538\n",
            "Precision: 0.8676160337552743\n",
            "Recall: 0.8111439842209073\n",
            "F1 Score: 0.8384301732925586\n"
          ]
        }
      ]
    }
  ]
}